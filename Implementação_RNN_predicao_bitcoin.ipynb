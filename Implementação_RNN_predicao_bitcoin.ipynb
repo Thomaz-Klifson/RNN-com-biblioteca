{
  "nbformat": 4,
  "nbformat_minor": 0,
  "metadata": {
    "colab": {
      "provenance": [],
      "gpuType": "T4"
    },
    "kernelspec": {
      "name": "python3",
      "display_name": "Python 3"
    },
    "language_info": {
      "name": "python"
    },
    "accelerator": "GPU"
  },
  "cells": [
    {
      "cell_type": "code",
      "source": [
        "import torch\n",
        "from torch import nn\n",
        "from torch.nn import functional as F\n",
        "import pandas as pd\n",
        "import matplotlib.pyplot as plt"
      ],
      "metadata": {
        "id": "Vooh1saBU41s"
      },
      "execution_count": 34,
      "outputs": []
    },
    {
      "cell_type": "code",
      "source": [
        "train_df = pd.read_csv('bitcoin_price_Training - Training.csv')\n",
        "test_df = pd.read_csv('bitcoin_price_1week_Test - Test.csv')"
      ],
      "metadata": {
        "id": "DkY9zrAtbpZb"
      },
      "execution_count": 35,
      "outputs": []
    },
    {
      "cell_type": "markdown",
      "source": [
        "### Descrevendo as Colunas do Dataset"
      ],
      "metadata": {
        "id": "6BiFI4fncETs"
      }
    },
    {
      "cell_type": "code",
      "source": [
        "print(train_df.info())\n",
        "print(train_df.describe())"
      ],
      "metadata": {
        "colab": {
          "base_uri": "https://localhost:8080/"
        },
        "id": "FfncXv__cBZG",
        "outputId": "742af97e-5723-4e84-f438-b5aaff20b5dc"
      },
      "execution_count": 36,
      "outputs": [
        {
          "output_type": "stream",
          "name": "stdout",
          "text": [
            "<class 'pandas.core.frame.DataFrame'>\n",
            "RangeIndex: 1556 entries, 0 to 1555\n",
            "Data columns (total 7 columns):\n",
            " #   Column      Non-Null Count  Dtype  \n",
            "---  ------      --------------  -----  \n",
            " 0   Date        1556 non-null   object \n",
            " 1   Open        1556 non-null   float64\n",
            " 2   High        1556 non-null   float64\n",
            " 3   Low         1556 non-null   float64\n",
            " 4   Close       1556 non-null   float64\n",
            " 5   Volume      1556 non-null   object \n",
            " 6   Market Cap  1556 non-null   object \n",
            "dtypes: float64(4), object(3)\n",
            "memory usage: 85.2+ KB\n",
            "None\n",
            "              Open         High          Low        Close\n",
            "count  1556.000000  1556.000000  1556.000000  1556.000000\n",
            "mean    582.625328   597.992847   567.851446   584.239396\n",
            "std     523.137312   542.992855   505.877401   525.904442\n",
            "min      68.500000    74.560000    65.530000    68.430000\n",
            "25%     254.287500   260.327500   248.835000   254.320000\n",
            "50%     438.600000   447.560000   430.570000   438.855000\n",
            "75%     662.437500   674.525000   646.735000   663.402500\n",
            "max    2953.220000  2999.910000  2840.530000  2958.110000\n"
          ]
        }
      ]
    },
    {
      "cell_type": "markdown",
      "source": [
        "### Escolhendo a coluna de interesse (preço de fechamento)"
      ],
      "metadata": {
        "id": "cRrm_ocxcQZ0"
      }
    },
    {
      "cell_type": "code",
      "source": [
        "train_data = train_df['Close'].values.astype('float32')\n",
        "test_data = test_df['Close'].values.astype('float32')"
      ],
      "metadata": {
        "id": "sNAZcW7gcN73"
      },
      "execution_count": 37,
      "outputs": []
    },
    {
      "cell_type": "markdown",
      "source": [
        "### Normalização dos dados"
      ],
      "metadata": {
        "id": "vV5ohy9GchIZ"
      }
    },
    {
      "cell_type": "code",
      "source": [
        "train_mean, train_std = train_data.mean(), train_data.std()\n",
        "train_data = (train_data - train_mean) / train_std\n",
        "test_data = (test_data - train_mean) / train_std\n",
        "print (test_data)\n",
        "print (train_data)"
      ],
      "metadata": {
        "colab": {
          "base_uri": "https://localhost:8080/"
        },
        "id": "6e4A5BEkcJzu",
        "outputId": "8588ebef-b88a-49a3-d93f-482c7e0abc9b"
      },
      "execution_count": 50,
      "outputs": [
        {
          "output_type": "stream",
          "name": "stdout",
          "text": [
            "[5.315793  5.001947  5.0760713 4.3969846 4.22359   4.044678  4.059115 ]\n",
            "[ 4.357897   4.1331444  4.074693  ... -0.8468887 -0.8363511 -0.8559997]\n"
          ]
        }
      ]
    },
    {
      "cell_type": "markdown",
      "source": [
        "### Preparação dos dados para treinamento"
      ],
      "metadata": {
        "id": "jkd-nSqWcm2h"
      }
    },
    {
      "cell_type": "code",
      "source": [
        "def create_sequences(data, seq_length):\n",
        "    print (len(data))\n",
        "    sequences = []\n",
        "    labels = []\n",
        "    for i in range(len(data) - seq_length):\n",
        "        sequences.append(data[i:i+seq_length])\n",
        "        labels.append(data[i+seq_length])\n",
        "    print (len(sequences), len(labels))\n",
        "    return torch.tensor(sequences, dtype=torch.float32), torch.tensor(labels, dtype=torch.float32)\n",
        "\n",
        "seq_length = 5\n",
        "X_train, y_train = create_sequences(train_data, seq_length)\n",
        "X_test, y_test = create_sequences(test_data, seq_length)\n",
        "print(f\"X_test shape: {X_test.shape}\")"
      ],
      "metadata": {
        "colab": {
          "base_uri": "https://localhost:8080/"
        },
        "id": "5KsLidFGcqNj",
        "outputId": "cfd79bc8-f6de-4483-ec16-193e235d54a6"
      },
      "execution_count": 53,
      "outputs": [
        {
          "output_type": "stream",
          "name": "stdout",
          "text": [
            "1556\n",
            "1551 1551\n",
            "7\n",
            "2 2\n",
            "X_test shape: torch.Size([2, 5])\n"
          ]
        }
      ]
    },
    {
      "cell_type": "markdown",
      "source": [
        "### Redimensionar os dados para o formato esperado pela RNN"
      ],
      "metadata": {
        "id": "yzf5rt4Qcyba"
      }
    },
    {
      "cell_type": "code",
      "source": [
        "X_train = X_train.unsqueeze(-1)\n",
        "X_test = X_test.unsqueeze(-1)\n",
        "\n",
        "device = torch.device('cuda' if torch.cuda.is_available() else 'cpu')"
      ],
      "metadata": {
        "id": "ScYkBPI7c0u0"
      },
      "execution_count": 54,
      "outputs": []
    },
    {
      "cell_type": "markdown",
      "source": [
        "### Definindo a RNN"
      ],
      "metadata": {
        "id": "FvBiRDtueVq4"
      }
    },
    {
      "cell_type": "code",
      "source": [
        "class RNNModel(nn.Module):\n",
        "  def __init__(self, input_size, hidden_size, output_size):\n",
        "    super(RNNModel, self).__init__()\n",
        "    self.rnn = nn.RNN(input_size, hidden_size, batch_first=True)\n",
        "    self.linear = nn.Linear(hidden_size, output_size)\n",
        "  def forward(self, x):\n",
        "      output, _ = self.rnn(x)\n",
        "      output = self.linear(output[:, -1, :])\n",
        "      return output\n",
        "input_size = 1\n",
        "hidden_size = 64\n",
        "output_size = 1\n",
        "net = RNNModel(input_size, hidden_size, output_size).to(device)"
      ],
      "metadata": {
        "id": "_f2uU3mxfKYU"
      },
      "execution_count": 55,
      "outputs": []
    },
    {
      "cell_type": "markdown",
      "source": [
        "### Treinamento do modelo"
      ],
      "metadata": {
        "id": "SUIpjcWxgJIa"
      }
    },
    {
      "cell_type": "code",
      "source": [
        "criterion = nn.MSELoss()\n",
        "optimizer = torch.optim.Adam(net.parameters(), lr=0.01)\n",
        "\n",
        "num_epochs = 50\n",
        "batch_size = 32\n",
        "train_loader = torch.utils.data.DataLoader(\n",
        "    list(zip(X_train, y_train)), batch_size=batch_size, shuffle=True\n",
        ")\n",
        "\n",
        "for epoch in range(num_epochs):\n",
        "    for batch_x, batch_y in train_loader:\n",
        "        batch_x, batch_y = batch_x.to(device), batch_y.to(device)\n",
        "        optimizer.zero_grad()\n",
        "        predictions = net(batch_x).squeeze()\n",
        "        loss = criterion(predictions, batch_y)\n",
        "        loss.backward()\n",
        "        optimizer.step()\n",
        "\n",
        "    if (epoch + 1) % 10 == 0:\n",
        "        print(f'Epoch {epoch+1}, Loss: {loss.item():.4f}')"
      ],
      "metadata": {
        "colab": {
          "base_uri": "https://localhost:8080/"
        },
        "id": "jb0TPbyaf5xg",
        "outputId": "e2e204ef-c4c3-4cfa-a555-071781ebb524"
      },
      "execution_count": 56,
      "outputs": [
        {
          "output_type": "stream",
          "name": "stdout",
          "text": [
            "Epoch 10, Loss: 0.0072\n",
            "Epoch 20, Loss: 0.0164\n",
            "Epoch 30, Loss: 0.0092\n",
            "Epoch 40, Loss: 0.0031\n",
            "Epoch 50, Loss: 0.0265\n"
          ]
        }
      ]
    },
    {
      "cell_type": "code",
      "source": [
        "print(f\"X_test shape: {X_test.shape}\")\n"
      ],
      "metadata": {
        "colab": {
          "base_uri": "https://localhost:8080/"
        },
        "id": "qPT7wPBDhKoQ",
        "outputId": "80d0964a-defd-4dec-b31f-9fe93000d18f"
      },
      "execution_count": 57,
      "outputs": [
        {
          "output_type": "stream",
          "name": "stdout",
          "text": [
            "X_test shape: torch.Size([2, 5, 1])\n"
          ]
        }
      ]
    },
    {
      "cell_type": "markdown",
      "source": [
        "### Avaliação do modelo"
      ],
      "metadata": {
        "id": "VYwZfW0LqFx_"
      }
    },
    {
      "cell_type": "code",
      "source": [
        "net.eval()\n",
        "with torch.no_grad():\n",
        "    y_pred = net(X_test.to(device)).cpu().numpy()\n",
        "    y_test = y_test.to(device).cpu().numpy()  # Garante que y_test está na CPU antes de converter\n"
      ],
      "metadata": {
        "id": "OEfkv78RgT-V"
      },
      "execution_count": 58,
      "outputs": []
    },
    {
      "cell_type": "markdown",
      "source": [
        "### Reverter normalização"
      ],
      "metadata": {
        "id": "mqqwndWsqLQa"
      }
    },
    {
      "cell_type": "code",
      "source": [
        "y_test = y_test * train_std + train_mean\n",
        "y_pred = y_pred * train_std + train_mean"
      ],
      "metadata": {
        "id": "UOr4BE_vp7Br"
      },
      "execution_count": 59,
      "outputs": []
    },
    {
      "cell_type": "markdown",
      "source": [
        "### Plotar os resultados"
      ],
      "metadata": {
        "id": "QhiVOs7FqSlk"
      }
    },
    {
      "cell_type": "code",
      "source": [
        "plt.figure(figsize=(10, 5))\n",
        "plt.plot(y_test, label='Real', linestyle='dashed')\n",
        "plt.plot(y_pred, label='Predito')\n",
        "plt.xlabel('Tempo')\n",
        "plt.ylabel('Preço de Fechamento')\n",
        "plt.legend()\n",
        "plt.title('Previsão de Preço do Bitcoin com RNN')\n",
        "plt.show()"
      ],
      "metadata": {
        "colab": {
          "base_uri": "https://localhost:8080/",
          "height": 487
        },
        "id": "hj8xPzA8qT1u",
        "outputId": "4d7cff63-cdda-49bc-e08f-9d46749936e5"
      },
      "execution_count": 61,
      "outputs": [
        {
          "output_type": "display_data",
          "data": {
            "text/plain": [
              "<Figure size 1000x500 with 1 Axes>"
            ],
            "image/png": "[encoded data removed]"
          },
          "metadata": {}
        }
      ]
    }
  ]
}